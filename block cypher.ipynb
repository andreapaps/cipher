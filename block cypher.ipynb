{
 "cells": [
  {
   "cell_type": "code",
   "execution_count": 1,
   "metadata": {},
   "outputs": [
    {
     "name": "stdout",
     "output_type": "stream",
     "text": [
      "fwtowpmjsztckwoocgw 19\n",
      "letsencryptamessage\n"
     ]
    }
   ],
   "source": [
    "message = 'letsencryptamessage'\n",
    "x = 0\n",
    "a= 5  #multiplicative parameter\n",
    "b= 2  #additive parameter\n",
    "mylist = []\n",
    "mylist2 = []\n",
    "word = ''\n",
    "count = 0\n",
    "\n",
    "#encryption\n",
    "for x in message:\n",
    "    letter = x\n",
    "    value = a*(ord(x) - 97) +b\n",
    "    value = value % 26\n",
    "    word = word + (chr(value+97))\n",
    "    count = count +1\n",
    "    \n",
    "print(word+' '+ str(count))\n",
    "\n",
    "#decryption\n",
    "x = 0\n",
    "solution = ''\n",
    "ainv = pow(a, -1, 26)\n",
    "\n",
    "for x in word:\n",
    "    letter = x\n",
    "    value = ainv*((ord(x) - 97)-b) #21 is the inverse of 5 mod 26 gonna work on the maths abit more and upgrade this\n",
    "    value = value % 26\n",
    "    solution = solution + (chr(value+97))\n",
    "    \n",
    "print(solution)"
   ]
  },
  {
   "cell_type": "code",
   "execution_count": 2,
   "metadata": {},
   "outputs": [
    {
     "name": "stdout",
     "output_type": "stream",
     "text": [
      "['d', 'k', 'r', 'y', 'f', 'm', 't', 'a', 'h', 'o', 'v', 'c', 'j', 'q', 'x', 'e', 'l', 's', 'z', 'g', 'n', 'u', 'b', 'i', 'p', 'w']\n",
      "['a', 'b', 'c', 'd', 'e', 'f', 'g', 'h', 'i', 'j', 'k', 'l', 'm', 'n', 'o', 'p', 'q', 'r', 's', 't', 'u', 'v', 'w', 'x', 'y', 'z']\n",
      "yxtfrxhqhzgafmngnsf\n",
      "---\n",
      "dogecoinisthefuture\n"
     ]
    }
   ],
   "source": [
    "alphabet = ['a','b','c','d','e','f','g','h','i','j','k','l','m','n','o','p','q','r','s','t','u','v','w','x','y','z']\n",
    "x = 0\n",
    "a= 7  #multiplicative parameter\n",
    "b= 3  #additive parameter\n",
    "ainv = pow(a, -1, 26)\n",
    "mylist = []\n",
    "mylist2 = []\n",
    "decrypted_string = \"\"\n",
    "\n",
    "\n",
    "#encryption\n",
    "for x in alphabet:\n",
    "    letter = x\n",
    "    value = a*(ord(x) - 97) +b\n",
    "    value = value % 26\n",
    "    mylist.append(chr(value+97))\n",
    "    \n",
    "print(mylist)\n",
    "\n",
    "#decryption\n",
    "x = 0\n",
    "for x in mylist:\n",
    "    letter = x\n",
    "    value = ainv*((ord(x) - 97)-b) \n",
    "    value = value % 26\n",
    "    mylist2.append(chr(value+97))\n",
    "    \n",
    "print(mylist2)\n",
    "\n",
    "encrypt_lookup = dict(zip(mylist2, mylist))\n",
    "decrypt_lookup = dict(zip(mylist, mylist2))\n",
    "\n",
    "input_string = \"dogecoinisthefuture\"\n",
    "output_string = \"\"\n",
    "\n",
    "for c in input_string:\n",
    "    output_string += encrypt_lookup[c]\n",
    "    \n",
    "print(output_string)\n",
    "print(\"---\")\n",
    "\n",
    "encrypted_string = output_string\n",
    "\n",
    "for c in encrypted_string:\n",
    "    decrypted_string += decrypt_lookup[c]\n",
    "    \n",
    "print(decrypted_string)"
   ]
  },
  {
   "cell_type": "code",
   "execution_count": null,
   "metadata": {},
   "outputs": [],
   "source": []
  },
  {
   "cell_type": "code",
   "execution_count": null,
   "metadata": {},
   "outputs": [],
   "source": []
  },
  {
   "cell_type": "code",
   "execution_count": null,
   "metadata": {},
   "outputs": [],
   "source": []
  },
  {
   "cell_type": "code",
   "execution_count": null,
   "metadata": {},
   "outputs": [],
   "source": []
  }
 ],
 "metadata": {
  "kernelspec": {
   "display_name": "Python 3",
   "language": "python",
   "name": "python3"
  },
  "language_info": {
   "codemirror_mode": {
    "name": "ipython",
    "version": 3
   },
   "file_extension": ".py",
   "mimetype": "text/x-python",
   "name": "python",
   "nbconvert_exporter": "python",
   "pygments_lexer": "ipython3",
   "version": "3.8.8"
  }
 },
 "nbformat": 4,
 "nbformat_minor": 4
}
